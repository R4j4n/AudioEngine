{
 "cells": [
  {
   "cell_type": "code",
   "execution_count": 3,
   "metadata": {},
   "outputs": [],
   "source": [
    "import pandas as pd \n",
    "\n",
    "df = pd.read_csv(\"CSVs/AerosportsLondon_20250110115111515_WristbandScheduleExport.csv\")"
   ]
  },
  {
   "cell_type": "code",
   "execution_count": 4,
   "metadata": {},
   "outputs": [
    {
     "name": "stderr",
     "output_type": "stream",
     "text": [
      "/tmp/ipykernel_10809/2099564705.py:7: FutureWarning: Series.__getitem__ treating keys as positions is deprecated. In a future version, integer keys will always be treated as labels (consistent with DataFrame behavior). To access a value by position, use `ser.iloc[pos]`\n",
      "  color = str(row[1]).lower()  # Taking Monday's column as example; similar can be done for all days\n"
     ]
    },
    {
     "data": {
      "text/plain": [
       "{'1030': 'AudioFiles/wristband/blue.mp3',\n",
       " '1045': 'AudioFiles/wristband/mocha.mp3',\n",
       " '1100': 'AudioFiles/wristband/yellow.mp3',\n",
       " '1115': 'AudioFiles/wristband/pink.mp3',\n",
       " '1130': 'AudioFiles/wristband/orange.mp3',\n",
       " '1145': 'AudioFiles/wristband/teal.mp3',\n",
       " '1200': 'AudioFiles/wristband/red.mp3',\n",
       " '1215': 'AudioFiles/wristband/green.mp3',\n",
       " '1230': 'AudioFiles/wristband/silver.mp3',\n",
       " '1245': 'AudioFiles/wristband/blue.mp3',\n",
       " '1300': 'AudioFiles/wristband/mocha.mp3',\n",
       " '1315': 'AudioFiles/wristband/yellow.mp3',\n",
       " '1330': 'AudioFiles/wristband/pink.mp3',\n",
       " '1345': 'AudioFiles/wristband/orange.mp3',\n",
       " '1400': 'AudioFiles/wristband/teal.mp3',\n",
       " '1415': 'AudioFiles/wristband/red.mp3',\n",
       " '1430': 'AudioFiles/wristband/green.mp3',\n",
       " '1445': 'AudioFiles/wristband/silver.mp3',\n",
       " '1500': 'AudioFiles/wristband/blue.mp3',\n",
       " '1515': 'AudioFiles/wristband/mocha.mp3',\n",
       " '1530': 'AudioFiles/wristband/yellow.mp3',\n",
       " '1545': 'AudioFiles/wristband/pink.mp3',\n",
       " '1600': 'AudioFiles/wristband/orange.mp3',\n",
       " '1615': 'AudioFiles/wristband/teal.mp3',\n",
       " '1630': 'AudioFiles/wristband/red.mp3',\n",
       " '1645': 'AudioFiles/wristband/green.mp3',\n",
       " '1700': 'AudioFiles/wristband/silver.mp3',\n",
       " '1715': 'AudioFiles/wristband/blue.mp3',\n",
       " '1730': 'AudioFiles/wristband/mocha.mp3',\n",
       " '1745': 'AudioFiles/wristband/yellow.mp3',\n",
       " '1800': 'AudioFiles/wristband/pink.mp3',\n",
       " '1815': 'AudioFiles/wristband/orange.mp3',\n",
       " '1830': 'AudioFiles/wristband/teal.mp3',\n",
       " '1845': 'AudioFiles/wristband/red.mp3',\n",
       " '1900': 'AudioFiles/wristband/green.mp3',\n",
       " '1915': 'AudioFiles/wristband/silver.mp3',\n",
       " '1930': 'AudioFiles/wristband/blue.mp3',\n",
       " '1945': 'AudioFiles/wristband/mocha.mp3',\n",
       " '2000': 'AudioFiles/wristband/yellow.mp3',\n",
       " '2015': 'AudioFiles/wristband/nan.mp3',\n",
       " '2030': 'AudioFiles/wristband/nan.mp3',\n",
       " '2045': 'AudioFiles/wristband/nan.mp3',\n",
       " '2100': 'AudioFiles/wristband/nan.mp3'}"
      ]
     },
     "execution_count": 4,
     "metadata": {},
     "output_type": "execute_result"
    }
   ],
   "source": [
    "time_column = 'Session end time'\n",
    "schedule_json = {}\n",
    "\n",
    "# Iterate through the rows to create the mapping\n",
    "for index, row in df.iterrows():\n",
    "    time = str(row[time_column])\n",
    "    color = str(row[1]).lower()  # Taking Monday's column as example; similar can be done for all days\n",
    "    schedule_json[time] = f\"AudioFiles/wristband/{color}.mp3\"\n",
    "\n",
    "# Show the JSON output for verification\n",
    "schedule_json"
   ]
  },
  {
   "cell_type": "code",
   "execution_count": null,
   "metadata": {},
   "outputs": [],
   "source": []
  }
 ],
 "metadata": {
  "kernelspec": {
   "display_name": "aiml",
   "language": "python",
   "name": "python3"
  },
  "language_info": {
   "codemirror_mode": {
    "name": "ipython",
    "version": 3
   },
   "file_extension": ".py",
   "mimetype": "text/x-python",
   "name": "python",
   "nbconvert_exporter": "python",
   "pygments_lexer": "ipython3",
   "version": "3.10.16"
  }
 },
 "nbformat": 4,
 "nbformat_minor": 2
}
